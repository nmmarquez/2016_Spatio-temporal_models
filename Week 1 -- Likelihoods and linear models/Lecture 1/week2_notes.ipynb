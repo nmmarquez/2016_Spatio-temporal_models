{
 "cells": [
  {
   "cell_type": "code",
   "execution_count": 1,
   "metadata": {
    "collapsed": false
   },
   "outputs": [
    {
     "name": "stderr",
     "output_type": "stream",
     "text": [
      "Loading required package: Matrix\n"
     ]
    }
   ],
   "source": [
    "options(jupyter.plot_mimetypes = 'image/png')\n",
    "set.seed(123)\n",
    "library(TMB)\n",
    "library(ggplot2)"
   ]
  },
  {
   "cell_type": "markdown",
   "metadata": {},
   "source": [
    "## GLM\n",
    "- Specify distribution  \n",
    "- Specify linear predictor  \n",
    "- Specify link function\n",
    "\n",
    "### example\n",
    "- Discrete with Poisson, binomaial  \n",
    "- Continous with lognormal, gamma\n",
    "\n",
    "### class will cover\n",
    "- Normal  \n",
    "- Binomial  \n",
    "- Poisson  \n",
    "\n",
    "### MLE  \n",
    "- $\\hat{\\theta} = argmax_{\\theta}(L(\\theta; y))$\n"
   ]
  },
  {
   "cell_type": "code",
   "execution_count": 2,
   "metadata": {
    "collapsed": true
   },
   "outputs": [],
   "source": [
    "setwd(\"~/Documents/Classes/2016_Spatio-temporal_models/Week 1 -- Likelihoods and linear models/Lab 1/\")"
   ]
  },
  {
   "cell_type": "code",
   "execution_count": 4,
   "metadata": {
    "collapsed": false,
    "scrolled": true
   },
   "outputs": [],
   "source": [
    "library( SpatialDeltaGLMM )\n",
    "\n",
    "#\n",
    "data(WCGBTS_Canary_example)\n",
    "CPUE = WCGBTS_Canary_example$HAUL_WT_KG\n",
    "X = cbind( \"Intercept\"=rep(1,length(CPUE)) )\n"
   ]
  },
  {
   "cell_type": "code",
   "execution_count": 5,
   "metadata": {
    "collapsed": false
   },
   "outputs": [
    {
     "data": {
      "text/html": [
       "0"
      ],
      "text/latex": [
       "0"
      ],
      "text/markdown": [
       "0"
      ],
      "text/plain": [
       "[1] 0"
      ]
     },
     "execution_count": 5,
     "metadata": {},
     "output_type": "execute_result"
    }
   ],
   "source": [
    "compile(\"delta_model_v1.cpp\")\n",
    "dyn.load( dynlib(\"delta_model_v1\") )\n",
    "Params = list(\"b_j\"=rep(0,ncol(X)), \"theta_z\"=c(0,0))\n",
    "Data = list( \"y_i\"=CPUE, \"X_ij\"=X )\n",
    "Obj = MakeADFun( data=Data, parameters=Params, DLL=\"delta_model_v1\")"
   ]
  },
  {
   "cell_type": "code",
   "execution_count": 8,
   "metadata": {
    "collapsed": false
   },
   "outputs": [
    {
     "data": {
      "text/html": [
       "7928.95316512593"
      ],
      "text/latex": [
       "7928.95316512593"
      ],
      "text/markdown": [
       "7928.95316512593"
      ],
      "text/plain": [
       "[1] 7928.953"
      ]
     },
     "execution_count": 8,
     "metadata": {},
     "output_type": "execute_result"
    },
    {
     "name": "stdout",
     "output_type": "stream",
     "text": [
      "outer mgc:  3249 \n"
     ]
    },
    {
     "data": {
      "text/html": [
       "<table>\n",
       "<tbody>\n",
       "\t<tr><td>-767.1285</td><td>-3249</td><td>-2201.7</td></tr>\n",
       "</tbody>\n",
       "</table>\n"
      ],
      "text/latex": [
       "\\begin{tabular}{lll}\n",
       "\t -767.1285 & -3249 & -2201.7\\\\\n",
       "\\end{tabular}\n"
      ],
      "text/markdown": [
       "1. -767.128530947372\n",
       "2. -3249\n",
       "3. -2201.69999709713\n",
       "\n",
       "\n"
      ],
      "text/plain": [
       "          [,1]  [,2]    [,3]\n",
       "[1,] -767.1285 -3249 -2201.7"
      ]
     },
     "execution_count": 8,
     "metadata": {},
     "output_type": "execute_result"
    }
   ],
   "source": [
    "Obj$fn( Obj$par )\n",
    "Obj$gr( Obj$par )"
   ]
  },
  {
   "cell_type": "code",
   "execution_count": 9,
   "metadata": {
    "collapsed": false
   },
   "outputs": [
    {
     "name": "stdout",
     "output_type": "stream",
     "text": [
      "outer mgc:  3249 \n",
      "outer mgc:  1783.454 \n",
      "outer mgc:  529.8701 \n",
      "outer mgc:  265.9077 \n",
      "outer mgc:  112.5368 \n",
      "outer mgc:  70.37939 \n",
      "outer mgc:  19.60547 \n",
      "outer mgc:  11.32693 \n",
      "outer mgc:  7.148037 \n",
      "outer mgc:  3.886266 \n",
      "outer mgc:  2.42914 \n",
      "outer mgc:  1.407305 \n",
      "outer mgc:  0.7218772 \n",
      "outer mgc:  0.1207936 \n",
      "outer mgc:  0.01435134 \n",
      "outer mgc:  0.001014479 \n",
      "outer mgc:  6.423181e-05 \n"
     ]
    }
   ],
   "source": [
    "Opt = nlminb( start=Obj$par, objective=Obj$fn, gradient=Obj$gr )"
   ]
  },
  {
   "cell_type": "code",
   "execution_count": 10,
   "metadata": {
    "collapsed": false
   },
   "outputs": [
    {
     "name": "stdout",
     "output_type": "stream",
     "text": [
      "outer mgc:  6.423181e-05 \n"
     ]
    }
   ],
   "source": [
    "Opt$diagnostics = data.frame( \"name\"=names(Obj$par), \"Est\"=Opt$par, \"final_gradient\"=as.vector(Obj$gr(Opt$par)))"
   ]
  },
  {
   "cell_type": "code",
   "execution_count": 11,
   "metadata": {
    "collapsed": false
   },
   "outputs": [
    {
     "data": {
      "text/html": [
       "<dl class=dl-horizontal>\n",
       "\t<dt>b_j</dt>\n",
       "\t\t<dd>1.38221363183457</dd>\n",
       "\t<dt>theta_z</dt>\n",
       "\t\t<dd>2.54224019198857</dd>\n",
       "\t<dt>theta_z</dt>\n",
       "\t\t<dd>0.558637365853763</dd>\n",
       "</dl>\n"
      ],
      "text/latex": [
       "\\begin{description*}\n",
       "\\item[b_j] 1.38221363183457\n",
       "\\item[theta_z] 2.54224019198857\n",
       "\\item[theta_z] 0.558637365853763\n",
       "\\end{description*}\n"
      ],
      "text/markdown": [
       "b_j\n",
       ":   1.38221363183457theta_z\n",
       ":   2.54224019198857theta_z\n",
       ":   0.558637365853763\n",
       "\n"
      ],
      "text/plain": [
       "      b_j   theta_z   theta_z \n",
       "1.3822136 2.5422402 0.5586374 "
      ]
     },
     "execution_count": 11,
     "metadata": {},
     "output_type": "execute_result"
    },
    {
     "name": "stdout",
     "output_type": "stream",
     "text": [
      "outer mgc:  6.423181e-05 \n",
      "outer mgc:  0.1815908 \n",
      "outer mgc:  0.1815681 \n",
      "outer mgc:  0.5142772 \n",
      "outer mgc:  0.514749 \n",
      "outer mgc:  1.108955 \n",
      "outer mgc:  1.111046 \n"
     ]
    }
   ],
   "source": [
    "Opt$par # estimated parameters\n",
    "SD = sdreport( Obj ) # standard errors"
   ]
  },
  {
   "cell_type": "code",
   "execution_count": 12,
   "metadata": {
    "collapsed": true
   },
   "outputs": [],
   "source": [
    "Report = Obj$report()"
   ]
  },
  {
   "cell_type": "code",
   "execution_count": null,
   "metadata": {
    "collapsed": false
   },
   "outputs": [
    {
     "data": {
      "text/html": [
       "7928.95316512593"
      ],
      "text/latex": [
       "7928.95316512593"
      ],
      "text/markdown": [
       "7928.95316512593"
      ],
      "text/plain": [
       "[1] 7928.953"
      ]
     },
     "execution_count": 6,
     "metadata": {},
     "output_type": "execute_result"
    },
    {
     "name": "stdout",
     "output_type": "stream",
     "text": [
      "outer mgc:  3249 \n"
     ]
    },
    {
     "data": {
      "text/html": [
       "<table>\n",
       "<tbody>\n",
       "\t<tr><td>-767.1285</td><td>-3249</td><td>-2201.7</td></tr>\n",
       "</tbody>\n",
       "</table>\n"
      ],
      "text/latex": [
       "\\begin{tabular}{lll}\n",
       "\t -767.1285 & -3249 & -2201.7\\\\\n",
       "\\end{tabular}\n"
      ],
      "text/markdown": [
       "1. -767.128530947372\n",
       "2. -3249\n",
       "3. -2201.69999709713\n",
       "\n",
       "\n"
      ],
      "text/plain": [
       "          [,1]  [,2]    [,3]\n",
       "[1,] -767.1285 -3249 -2201.7"
      ]
     },
     "execution_count": 6,
     "metadata": {},
     "output_type": "execute_result"
    },
    {
     "name": "stdout",
     "output_type": "stream",
     "text": [
      "outer mgc:  3249 \n",
      "outer mgc:  1783.454 \n",
      "outer mgc:  529.8701 \n",
      "outer mgc:  265.9077 \n",
      "outer mgc:  112.5368 \n",
      "outer mgc:  70.37939 \n",
      "outer mgc:  19.60547 \n",
      "outer mgc:  11.32693 \n",
      "outer mgc:  7.148037 \n",
      "outer mgc:  3.886266 \n",
      "outer mgc:  2.42914 \n",
      "outer mgc:  1.407305 \n",
      "outer mgc:  0.7218772 \n",
      "outer mgc:  0.1207936 \n",
      "outer mgc:  0.01435134 \n",
      "outer mgc:  0.001014479 \n",
      "outer mgc:  6.423181e-05 \n",
      "outer mgc:  6.423181e-05 \n"
     ]
    },
    {
     "data": {
      "text/html": [
       "<dl class=dl-horizontal>\n",
       "\t<dt>b_j</dt>\n",
       "\t\t<dd>1.38221363183457</dd>\n",
       "\t<dt>theta_z</dt>\n",
       "\t\t<dd>2.54224019198857</dd>\n",
       "\t<dt>theta_z</dt>\n",
       "\t\t<dd>0.558637365853763</dd>\n",
       "</dl>\n"
      ],
      "text/latex": [
       "\\begin{description*}\n",
       "\\item[b_j] 1.38221363183457\n",
       "\\item[theta_z] 2.54224019198857\n",
       "\\item[theta_z] 0.558637365853763\n",
       "\\end{description*}\n"
      ],
      "text/markdown": [
       "b_j\n",
       ":   1.38221363183457theta_z\n",
       ":   2.54224019198857theta_z\n",
       ":   0.558637365853763\n",
       "\n"
      ],
      "text/plain": [
       "      b_j   theta_z   theta_z \n",
       "1.3822136 2.5422402 0.5586374 "
      ]
     },
     "execution_count": 6,
     "metadata": {},
     "output_type": "execute_result"
    },
    {
     "name": "stdout",
     "output_type": "stream",
     "text": [
      "outer mgc:  6.423181e-05 \n",
      "outer mgc:  0.1815908 \n",
      "outer mgc:  0.1815681 \n",
      "outer mgc:  0.5142772 \n",
      "outer mgc:  0.514749 \n",
      "outer mgc:  1.108955 \n",
      "outer mgc:  1.111046 \n"
     ]
    }
   ],
   "source": [
    "# Step 2 -- build inputs and object\n",
    "dyn.load( dynlib(\"delta_model_v1\") )\n",
    "Params = list(\"b_j\"=rep(0,ncol(X)), \"theta_z\"=c(0,0))\n",
    "Data = list( \"y_i\"=CPUE, \"X_ij\"=X )\n",
    "Obj = MakeADFun( data=Data, parameters=Params, DLL=\"delta_model_v1\")\n",
    "\n",
    "# Step 3 -- test and optimize\n",
    "Obj$fn( Obj$par )\n",
    "Obj$gr( Obj$par )\n",
    "Opt = nlminb( start=Obj$par, objective=Obj$fn, gradient=Obj$gr )\n",
    "Opt$diagnostics = data.frame( \"name\"=names(Obj$par), \"Est\"=Opt$par, \"final_gradient\"=as.vector(Obj$gr(Opt$par)))\n",
    "Opt$par # estimated parameters\n",
    "SD = sdreport( Obj ) # standard errors\n",
    "\n",
    "# Extract stuff\n",
    "Report = Obj$report()\n",
    "\n",
    "# Visualize fit\n",
    "#png( file=\"Canary_histogram--with_fit.png\", width=4, height=4, res=200, units=\"in\")\n",
    "  #par( mar=c(3,3,2,0), mgp=c(2,0.5,0), tck=-0.02)\n",
    "  #hist( log(1+CPUE), freq=FALSE, col=rgb(1,0,0,0.2) )\n",
    "  #Sim_CPUE = (1-rbinom(1e5, size=1, prob=Report$zero_prob)) * rlnorm(1e5, meanlog=Report$linpred_i, sdlog=Report$logsd)\n",
    "  #hist( log(1+Sim_CPUE), freq=FALSE, add=TRUE, col=rgb(0,0,1,0.2) )\n",
    "  #legend( \"topright\", bty=\"n\", legend=c(\"Observed\",\"Predicted\"), fill=c(\"red\",\"blue\"))\n",
    "#dev.off()\n",
    "dyn.unload( dynlib(\"delta_model_v1\") )"
   ]
  },
  {
   "cell_type": "code",
   "execution_count": null,
   "metadata": {
    "collapsed": true
   },
   "outputs": [],
   "source": [
    "# Step 0 -- make and compile template file\n",
    "compile( \"delta_model_v2.cpp\" )\n",
    "\n",
    "# Step 1 -- divide into partitions\n",
    "K = 10\n",
    "Partition_i = sample( x=1:K, size=length(CPUE), replace=TRUE )\n",
    "PredNLL_k = rep(NA, K)\n",
    "\n",
    "# Step 2 --Loop through partitions\n",
    "for(k in 1:K){\n",
    "  dyn.load( dynlib(\"delta_model_v2\") )\n",
    "  Params = list(\"b_j\"=rep(0,ncol(X)), \"theta_z\"=c(0,0))\n",
    "  Data = list( \"y_i\"=CPUE, \"X_ij\"=X, predTF_i=ifelse(Partition_i==k,1,0) )\n",
    "  Obj = MakeADFun( data=Data, parameters=Params, DLL=\"delta_model_v2\")\n",
    "  Opt = nlminb( start=Obj$par, objective=Obj$fn, gradient=Obj$gr )\n",
    "  Report = Obj$report()\n",
    "  PredNLL_k[k] = Report$pred_jnll\n",
    "}\n",
    "\n",
    "# log-Predictive probability per datum\n",
    "mean( PredNLL_k / table(Partition_i) )"
   ]
  }
 ],
 "metadata": {
  "kernelspec": {
   "display_name": "R",
   "language": "",
   "name": "ir"
  },
  "language_info": {
   "codemirror_mode": "r",
   "file_extension": ".r",
   "mimetype": "text/x-r-source",
   "name": "R",
   "pygments_lexer": "r",
   "version": "3.2.4"
  }
 },
 "nbformat": 4,
 "nbformat_minor": 0
}
