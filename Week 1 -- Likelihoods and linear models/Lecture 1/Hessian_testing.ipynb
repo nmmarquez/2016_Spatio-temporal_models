{
 "cells": [
  {
   "cell_type": "markdown",
   "metadata": {
    "collapsed": true
   },
   "source": [
    "### Testing the Hessian as a derivative of certainty "
   ]
  },
  {
   "cell_type": "code",
   "execution_count": 1,
   "metadata": {
    "collapsed": false
   },
   "outputs": [
    {
     "name": "stderr",
     "output_type": "stream",
     "text": [
      "Loading required package: Matrix\n"
     ]
    }
   ],
   "source": [
    "options(jupyter.plot_mimetypes = 'image/png')\n",
    "set.seed(123)\n",
    "library(TMB)"
   ]
  },
  {
   "cell_type": "markdown",
   "metadata": {},
   "source": [
    "$$\n",
    "Y \\sim \\mathcal{N}(\\mu, \\sigma)\n",
    "$$"
   ]
  },
  {
   "cell_type": "code",
   "execution_count": 2,
   "metadata": {
    "collapsed": true
   },
   "outputs": [],
   "source": [
    "N1 <- 10000\n",
    "N2 <- 10\n",
    "y1 <- rnorm(N1, 5, 1)\n",
    "y2 <- rnorm(N2, 5, 1)"
   ]
  },
  {
   "cell_type": "code",
   "execution_count": 3,
   "metadata": {
    "collapsed": true
   },
   "outputs": [],
   "source": [
    "nll_func_simple <- function(par, data){\n",
    "    mu <- par[1]\n",
    "    sd_ <- par[2]\n",
    "    -1 * sum(dnorm(data, mean=mu, sd=sd_, log=TRUE))\n",
    "} \n",
    "\n",
    "lm_opt1 <- optim(par=c(1,1), fn=nll_func_simple, data=y1, lower=c(-Inf, 0.0001), \n",
    "                 upper=Inf, method=\"L-BFGS-B\", hessian=TRUE)\n",
    "lm_opt2 <- optim(par=c(1,1), fn=nll_func_simple, data=y2, lower=c(-Inf, 0.0001), \n",
    "                 upper=Inf, method=\"L-BFGS-B\", hessian=TRUE)"
   ]
  },
  {
   "cell_type": "code",
   "execution_count": 4,
   "metadata": {
    "collapsed": false
   },
   "outputs": [
    {
     "name": "stdout",
     "output_type": "stream",
     "text": [
      "         [,1]      [,2]\n",
      "[1,] 4.997629 0.9985866\n",
      "[2,] 5.316846 1.0848680\n"
     ]
    }
   ],
   "source": [
    "print(rbind(lm_opt1$par, lm_opt2$par))"
   ]
  },
  {
   "cell_type": "code",
   "execution_count": 5,
   "metadata": {
    "collapsed": false
   },
   "outputs": [
    {
     "name": "stdout",
     "output_type": "stream",
     "text": [
      "[1] 0.009985866 0.007061040\n"
     ]
    }
   ],
   "source": [
    "print(sqrt(diag(solve(lm_opt1$hessian))))"
   ]
  },
  {
   "cell_type": "code",
   "execution_count": 6,
   "metadata": {
    "collapsed": false
   },
   "outputs": [
    {
     "name": "stdout",
     "output_type": "stream",
     "text": [
      "[1] 0.3430654 0.2425832\n"
     ]
    }
   ],
   "source": [
    "print(sqrt(diag(solve(lm_opt2$hessian))))"
   ]
  },
  {
   "cell_type": "code",
   "execution_count": 7,
   "metadata": {
    "collapsed": false
   },
   "outputs": [],
   "source": [
    "fileConn<-file(\"lm_test.cpp\")\n",
    "\n",
    "cpp_code <- \n",
    "'\n",
    "#include <TMB.hpp>\n",
    "template<class Type>\n",
    "Type objective_function<Type>::operator() ()\n",
    "{\n",
    "  // Data\n",
    "  DATA_VECTOR(y);\n",
    "\n",
    "  // Parameters\n",
    "  PARAMETER(mean);\n",
    "  PARAMETER(log_sd);\n",
    "\n",
    "  // Objective funcction\n",
    "  Type sd = exp(log_sd);\n",
    "\n",
    "  // Probability of data conditional on fixed effect values\n",
    "  Type jnll = -1 * sum(dnorm(y, mean, sd, true));\n",
    "  \n",
    "  // Reporting\n",
    "  return jnll;\n",
    "}\n",
    "'\n",
    "\n",
    "writeLines(cpp_code, fileConn)\n",
    "close(fileConn)"
   ]
  },
  {
   "cell_type": "code",
   "execution_count": 8,
   "metadata": {
    "collapsed": false
   },
   "outputs": [],
   "source": [
    "if(!(dynlib(\"lm_test\") %in% list.files())){\n",
    "    compile(\"lm_test.cpp\")\n",
    "}"
   ]
  },
  {
   "cell_type": "code",
   "execution_count": 9,
   "metadata": {
    "collapsed": false
   },
   "outputs": [
    {
     "data": {
      "text/html": [
       "139056.705367233"
      ],
      "text/latex": [
       "139056.705367233"
      ],
      "text/markdown": [
       "139056.705367233"
      ],
      "text/plain": [
       "[1] 139056.7"
      ]
     },
     "execution_count": 9,
     "metadata": {},
     "output_type": "execute_result"
    },
    {
     "name": "stdout",
     "output_type": "stream",
     "text": [
      "outer mgc:  249734.6 \n"
     ]
    },
    {
     "data": {
      "text/html": [
       "<table>\n",
       "<tbody>\n",
       "\t<tr><td>-49976.28</td><td>-249734.6</td></tr>\n",
       "</tbody>\n",
       "</table>\n"
      ],
      "text/latex": [
       "\\begin{tabular}{ll}\n",
       "\t -49976.28 & -249734.6\\\\\n",
       "\\end{tabular}\n"
      ],
      "text/markdown": [
       "1. -49976.2829815668\n",
       "2. -249734.640070426\n",
       "\n",
       "\n"
      ],
      "text/plain": [
       "          [,1]      [,2]\n",
       "[1,] -49976.28 -249734.6"
      ]
     },
     "execution_count": 9,
     "metadata": {},
     "output_type": "execute_result"
    },
    {
     "name": "stdout",
     "output_type": "stream",
     "text": [
      "outer mgc:  249734.6 \n",
      "outer mgc:  23839.52 \n",
      "outer mgc:  4373.277 \n",
      "outer mgc:  3047.535 \n",
      "outer mgc:  1134.511 \n",
      "outer mgc:  497.9886 \n",
      "outer mgc:  208.9221 \n",
      "outer mgc:  43.2162 \n",
      "outer mgc:  6.986684 \n",
      "outer mgc:  0.7983885 \n",
      "outer mgc:  0.0007113673 \n",
      "outer mgc:  1.573886e-06 \n",
      "outer mgc:  1.573886e-06 \n",
      "outer mgc:  1.573886e-06 \n",
      "outer mgc:  10.02833 \n",
      "outer mgc:  10.02833 \n",
      "outer mgc:  19.98001 \n",
      "outer mgc:  20.02001 \n"
     ]
    }
   ],
   "source": [
    "# Step 2 -- build inputs and object\n",
    "dyn.load(dynlib(\"lm_test\"))\n",
    "Params <- list(mean=0, log_sd=0)\n",
    "Data <- list(y=y1)\n",
    "Obj <- MakeADFun( data=Data, parameters=Params, DLL=\"lm_test\")\n",
    "\n",
    "# Step 3 -- test and optimize\n",
    "Obj$fn(Obj$par)\n",
    "Obj$gr(Obj$par)\n",
    "Opt <- nlminb(start=Obj$par, objective=Obj$fn, gradient=Obj$gr)\n",
    "Opt$diagnostics = data.frame(name=names(Obj$par), Est=Opt$par, \n",
    "                             final_gradient=as.vector(Obj$gr(Opt$par)))\n",
    "SD <- sdreport(Obj) # standard errors\n",
    "SD"
   ]
  },
  {
   "cell_type": "code",
   "execution_count": 11,
   "metadata": {
    "collapsed": false
   },
   "outputs": [
    {
     "data": {
      "text/html": [
       "156.418350750642"
      ],
      "text/latex": [
       "156.418350750642"
      ],
      "text/markdown": [
       "156.418350750642"
      ],
      "text/plain": [
       "[1] 156.4184"
      ]
     },
     "execution_count": 11,
     "metadata": {},
     "output_type": "execute_result"
    },
    {
     "name": "stdout",
     "output_type": "stream",
     "text": [
      "outer mgc:  284.4579 \n"
     ]
    },
    {
     "data": {
      "text/html": [
       "<table>\n",
       "<tbody>\n",
       "\t<tr><td>-53.16846</td><td>-284.4579</td></tr>\n",
       "</tbody>\n",
       "</table>\n"
      ],
      "text/latex": [
       "\\begin{tabular}{ll}\n",
       "\t -53.16846 & -284.4579\\\\\n",
       "\\end{tabular}\n"
      ],
      "text/markdown": [
       "1. -53.1684645139494\n",
       "2. -284.457930837191\n",
       "\n",
       "\n"
      ],
      "text/plain": [
       "          [,1]      [,2]\n",
       "[1,] -53.16846 -284.4579"
      ]
     },
     "execution_count": 11,
     "metadata": {},
     "output_type": "execute_result"
    },
    {
     "name": "stdout",
     "output_type": "stream",
     "text": [
      "outer mgc:  284.4579 \n",
      "outer mgc:  28.54229 \n",
      "outer mgc:  21.81578 \n",
      "outer mgc:  4.656971 \n",
      "outer mgc:  4.397002 \n",
      "outer mgc:  3.671862 \n",
      "outer mgc:  2.854891 \n",
      "outer mgc:  0.9646584 \n",
      "outer mgc:  0.2967955 \n",
      "outer mgc:  0.0326299 \n",
      "outer mgc:  0.000445752 \n",
      "outer mgc:  5.382956e-07 \n",
      "outer mgc:  4.649827e-10 \n",
      "outer mgc:  4.649827e-10 \n",
      "outer mgc:  4.649827e-10 \n",
      "outer mgc:  0.008496633 \n",
      "outer mgc:  0.008496632 \n",
      "outer mgc:  0.01998001 \n",
      "outer mgc:  0.02002001 \n"
     ]
    },
    {
     "data": {
      "text/plain": [
       "         Estimate Std. Error\n",
       "mean   5.31684645  0.3430651\n",
       "log_sd 0.08145761  0.2236067\n",
       "\n",
       "Maximum gradient component: 4.649827e-10 "
      ]
     },
     "execution_count": 11,
     "metadata": {},
     "output_type": "execute_result"
    }
   ],
   "source": [
    "Params <- list(mean=0, log_sd=0)\n",
    "Data <- list(y=y2)\n",
    "Obj <- MakeADFun( data=Data, parameters=Params, DLL=\"lm_test\")\n",
    "\n",
    "# Step 3 -- test and optimize\n",
    "Obj$fn(Obj$par)\n",
    "Obj$gr(Obj$par)\n",
    "Opt <- nlminb(start=Obj$par, objective=Obj$fn, gradient=Obj$gr)\n",
    "Opt$diagnostics <- data.frame(name=names(Obj$par), Est=Opt$par, \n",
    "                             final_gradient=as.vector(Obj$gr(Opt$par)))\n",
    "SD <- sdreport(Obj) # standard errors\n",
    "SD"
   ]
  },
  {
   "cell_type": "code",
   "execution_count": null,
   "metadata": {
    "collapsed": true
   },
   "outputs": [],
   "source": []
  }
 ],
 "metadata": {
  "kernelspec": {
   "display_name": "R",
   "language": "",
   "name": "ir"
  },
  "language_info": {
   "codemirror_mode": "r",
   "file_extension": ".r",
   "mimetype": "text/x-r-source",
   "name": "R",
   "pygments_lexer": "r",
   "version": "3.2.4"
  }
 },
 "nbformat": 4,
 "nbformat_minor": 0
}
